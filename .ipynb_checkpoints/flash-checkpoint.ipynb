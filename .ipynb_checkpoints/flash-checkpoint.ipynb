{
 "cells": [
  {
   "cell_type": "code",
   "execution_count": 38,
   "id": "b3638468",
   "metadata": {},
   "outputs": [
    {
     "name": "stdout",
     "output_type": "stream",
     "text": [
      "SS_VER set to SS_VER_1_1\n",
      "C:/Users/joris/CHIPWH~1/cw/home/portable/avrgcc/bin/make clean_objs .dep \n",
      "make[1]: Entering directory 'C:/Users/joris/ChipWhisperer5_64/cw/home/portable/chipwhisperer/multilayer-perceptron-in-c'\n",
      "SS_VER set to SS_VER_1_1\n",
      "rm -f -- MLP-CWLITEARM.hex\n",
      "rm -f -- MLP-CWLITEARM.eep\n",
      "rm -f -- MLP-CWLITEARM.cof\n",
      "rm -f -- MLP-CWLITEARM.elf\n",
      "rm -f -- MLP-CWLITEARM.map\n",
      "rm -f -- MLP-CWLITEARM.sym\n",
      "rm -f -- MLP-CWLITEARM.lss\n",
      "rm -f -- objdir-CWLITEARM/*.o\n",
      "rm -f -- objdir-CWLITEARM/*.lst\n",
      "rm -f -- back_propagation.s forward_propagation.s main.s mlp_classifier.s mlp_trainer.s read_csv.s write_csv.s simpleserial.s stm32f3_hal.s stm32f3_hal_lowlevel.s stm32f3_sysmem.s\n",
      "rm -f -- back_propagation.d forward_propagation.d main.d mlp_classifier.d mlp_trainer.d read_csv.d write_csv.d simpleserial.d stm32f3_hal.d stm32f3_hal_lowlevel.d stm32f3_sysmem.d\n",
      "rm -f -- back_propagation.i forward_propagation.i main.i mlp_classifier.i mlp_trainer.i read_csv.i write_csv.i simpleserial.i stm32f3_hal.i stm32f3_hal_lowlevel.i stm32f3_sysmem.i\n",
      "make[1]: '.dep' is up to date.\n",
      "make[1]: Leaving directory 'C:/Users/joris/ChipWhisperer5_64/cw/home/portable/chipwhisperer/multilayer-perceptron-in-c'\n",
      "C:/Users/joris/CHIPWH~1/cw/home/portable/avrgcc/bin/make begin gccversion build sizeafter fastnote end\n",
      "make[1]: Entering directory 'C:/Users/joris/ChipWhisperer5_64/cw/home/portable/chipwhisperer/multilayer-perceptron-in-c'\n",
      "SS_VER set to SS_VER_1_1\n",
      ".\n",
      "Welcome to another exciting ChipWhisperer target build!!\n",
      "arm-none-eabi-gcc (GNU Arm Embedded Toolchain 10-2020-q4-major) 10.2.1 20201103 (release)\n",
      "Copyright (C) 2020 Free Software Foundation, Inc.\n",
      "This is free software; see the source for copying conditions.  There is NO\n",
      "warranty; not even for MERCHANTABILITY or FITNESS FOR A PARTICULAR PURPOSE.\n",
      "\n",
      ".\n",
      "Compiling C: back_propagation.c\n",
      "arm-none-eabi-gcc -c -mcpu=cortex-m4 -I. -mthumb -mfloat-abi=soft -fmessage-length=0 -ffunction-sections -gdwarf-2 -DSS_VER=SS_VER_1_1 -DSTM32F303xC -DSTM32F3 -DSTM32 -DDEBUG -DHAL_TYPE=HAL_stm32f3 -DPLATFORM=CWLITEARM -DF_CPU=7372800UL -DSS_VER_2_0=2 -DSS_VER_2_1=3 -DSS_VER_1_1=1 -DSS_VER_1_0=0 -Os -funsigned-char -funsigned-bitfields -fshort-enums -Wall -Wstrict-prototypes -Wa,-adhlns=objdir-CWLITEARM/back_propagation.lst -I../hardware/victims/firmware/simpleserial/ -I../hardware/victims/firmware/hal -I../hardware/victims/firmware/hal/stm32f3 -I../hardware/victims/firmware/hal/stm32f3/CMSIS -I../hardware/victims/firmware/hal/stm32f3/CMSIS/core -I../hardware/victims/firmware/hal/stm32f3/CMSIS/device -I../hardware/victims/firmware/hal/stm32f4/Legacy -I../hardware/victims/firmware/crypto/ -std=gnu99  -MMD -MP -MF .dep/back_propagation.o.d back_propagation.c -o objdir-CWLITEARM/back_propagation.o\n",
      ".\n",
      "Compiling C: forward_propagation.c\n",
      "arm-none-eabi-gcc -c -mcpu=cortex-m4 -I. -mthumb -mfloat-abi=soft -fmessage-length=0 -ffunction-sections -gdwarf-2 -DSS_VER=SS_VER_1_1 -DSTM32F303xC -DSTM32F3 -DSTM32 -DDEBUG -DHAL_TYPE=HAL_stm32f3 -DPLATFORM=CWLITEARM -DF_CPU=7372800UL -DSS_VER_2_0=2 -DSS_VER_2_1=3 -DSS_VER_1_1=1 -DSS_VER_1_0=0 -Os -funsigned-char -funsigned-bitfields -fshort-enums -Wall -Wstrict-prototypes -Wa,-adhlns=objdir-CWLITEARM/forward_propagation.lst -I../hardware/victims/firmware/simpleserial/ -I../hardware/victims/firmware/hal -I../hardware/victims/firmware/hal/stm32f3 -I../hardware/victims/firmware/hal/stm32f3/CMSIS -I../hardware/victims/firmware/hal/stm32f3/CMSIS/core -I../hardware/victims/firmware/hal/stm32f3/CMSIS/device -I../hardware/victims/firmware/hal/stm32f4/Legacy -I../hardware/victims/firmware/crypto/ -std=gnu99  -MMD -MP -MF .dep/forward_propagation.o.d forward_propagation.c -o objdir-CWLITEARM/forward_propagation.o\n",
      ".\n",
      "Compiling C: main.c\n",
      "arm-none-eabi-gcc -c -mcpu=cortex-m4 -I. -mthumb -mfloat-abi=soft -fmessage-length=0 -ffunction-sections -gdwarf-2 -DSS_VER=SS_VER_1_1 -DSTM32F303xC -DSTM32F3 -DSTM32 -DDEBUG -DHAL_TYPE=HAL_stm32f3 -DPLATFORM=CWLITEARM -DF_CPU=7372800UL -DSS_VER_2_0=2 -DSS_VER_2_1=3 -DSS_VER_1_1=1 -DSS_VER_1_0=0 -Os -funsigned-char -funsigned-bitfields -fshort-enums -Wall -Wstrict-prototypes -Wa,-adhlns=objdir-CWLITEARM/main.lst -I../hardware/victims/firmware/simpleserial/ -I../hardware/victims/firmware/hal -I../hardware/victims/firmware/hal/stm32f3 -I../hardware/victims/firmware/hal/stm32f3/CMSIS -I../hardware/victims/firmware/hal/stm32f3/CMSIS/core -I../hardware/victims/firmware/hal/stm32f3/CMSIS/device -I../hardware/victims/firmware/hal/stm32f4/Legacy -I../hardware/victims/firmware/crypto/ -std=gnu99  -MMD -MP -MF .dep/main.o.d main.c -o objdir-CWLITEARM/main.o\n",
      ".\n",
      "Compiling C: mlp_classifier.c\n",
      "arm-none-eabi-gcc -c -mcpu=cortex-m4 -I. -mthumb -mfloat-abi=soft -fmessage-length=0 -ffunction-sections -gdwarf-2 -DSS_VER=SS_VER_1_1 -DSTM32F303xC -DSTM32F3 -DSTM32 -DDEBUG -DHAL_TYPE=HAL_stm32f3 -DPLATFORM=CWLITEARM -DF_CPU=7372800UL -DSS_VER_2_0=2 -DSS_VER_2_1=3 -DSS_VER_1_1=1 -DSS_VER_1_0=0 -Os -funsigned-char -funsigned-bitfields -fshort-enums -Wall -Wstrict-prototypes -Wa,-adhlns=objdir-CWLITEARM/mlp_classifier.lst -I../hardware/victims/firmware/simpleserial/ -I../hardware/victims/firmware/hal -I../hardware/victims/firmware/hal/stm32f3 -I../hardware/victims/firmware/hal/stm32f3/CMSIS -I../hardware/victims/firmware/hal/stm32f3/CMSIS/core -I../hardware/victims/firmware/hal/stm32f3/CMSIS/device -I../hardware/victims/firmware/hal/stm32f4/Legacy -I../hardware/victims/firmware/crypto/ -std=gnu99  -MMD -MP -MF .dep/mlp_classifier.o.d mlp_classifier.c -o objdir-CWLITEARM/mlp_classifier.o\n"
     ]
    },
    {
     "name": "stderr",
     "output_type": "stream",
     "text": [
      "mlp_classifier.c: In function 'mlp_classifier':\n",
      "mlp_classifier.c:187:43: warning: 'max_class' may be used uninitialized in this function [-Wmaybe-uninitialized]\n",
      "  187 |             final_output[test_example][0] = max_class;\n",
      "      |             ~~~~~~~~~~~~~~~~~~~~~~~~~~~~~~^~~~~~~~~~~\n"
     ]
    },
    {
     "name": "stdout",
     "output_type": "stream",
     "text": [
      ".\n",
      "Compiling C: mlp_trainer.c\n",
      "arm-none-eabi-gcc -c -mcpu=cortex-m4 -I. -mthumb -mfloat-abi=soft -fmessage-length=0 -ffunction-sections -gdwarf-2 -DSS_VER=SS_VER_1_1 -DSTM32F303xC -DSTM32F3 -DSTM32 -DDEBUG -DHAL_TYPE=HAL_stm32f3 -DPLATFORM=CWLITEARM -DF_CPU=7372800UL -DSS_VER_2_0=2 -DSS_VER_2_1=3 -DSS_VER_1_1=1 -DSS_VER_1_0=0 -Os -funsigned-char -funsigned-bitfields -fshort-enums -Wall -Wstrict-prototypes -Wa,-adhlns=objdir-CWLITEARM/mlp_trainer.lst -I../hardware/victims/firmware/simpleserial/ -I../hardware/victims/firmware/hal -I../hardware/victims/firmware/hal/stm32f3 -I../hardware/victims/firmware/hal/stm32f3/CMSIS -I../hardware/victims/firmware/hal/stm32f3/CMSIS/core -I../hardware/victims/firmware/hal/stm32f3/CMSIS/device -I../hardware/victims/firmware/hal/stm32f4/Legacy -I../hardware/victims/firmware/crypto/ -std=gnu99  -MMD -MP -MF .dep/mlp_trainer.o.d mlp_trainer.c -o objdir-CWLITEARM/mlp_trainer.o\n",
      ".\n",
      "Compiling C: read_csv.c\n",
      "arm-none-eabi-gcc -c -mcpu=cortex-m4 -I. -mthumb -mfloat-abi=soft -fmessage-length=0 -ffunction-sections -gdwarf-2 -DSS_VER=SS_VER_1_1 -DSTM32F303xC -DSTM32F3 -DSTM32 -DDEBUG -DHAL_TYPE=HAL_stm32f3 -DPLATFORM=CWLITEARM -DF_CPU=7372800UL -DSS_VER_2_0=2 -DSS_VER_2_1=3 -DSS_VER_1_1=1 -DSS_VER_1_0=0 -Os -funsigned-char -funsigned-bitfields -fshort-enums -Wall -Wstrict-prototypes -Wa,-adhlns=objdir-CWLITEARM/read_csv.lst -I../hardware/victims/firmware/simpleserial/ -I../hardware/victims/firmware/hal -I../hardware/victims/firmware/hal/stm32f3 -I../hardware/victims/firmware/hal/stm32f3/CMSIS -I../hardware/victims/firmware/hal/stm32f3/CMSIS/core -I../hardware/victims/firmware/hal/stm32f3/CMSIS/device -I../hardware/victims/firmware/hal/stm32f4/Legacy -I../hardware/victims/firmware/crypto/ -std=gnu99  -MMD -MP -MF .dep/read_csv.o.d read_csv.c -o objdir-CWLITEARM/read_csv.o\n",
      ".\n",
      "Compiling C: write_csv.c\n",
      "arm-none-eabi-gcc -c -mcpu=cortex-m4 -I. -mthumb -mfloat-abi=soft -fmessage-length=0 -ffunction-sections -gdwarf-2 -DSS_VER=SS_VER_1_1 -DSTM32F303xC -DSTM32F3 -DSTM32 -DDEBUG -DHAL_TYPE=HAL_stm32f3 -DPLATFORM=CWLITEARM -DF_CPU=7372800UL -DSS_VER_2_0=2 -DSS_VER_2_1=3 -DSS_VER_1_1=1 -DSS_VER_1_0=0 -Os -funsigned-char -funsigned-bitfields -fshort-enums -Wall -Wstrict-prototypes -Wa,-adhlns=objdir-CWLITEARM/write_csv.lst -I../hardware/victims/firmware/simpleserial/ -I../hardware/victims/firmware/hal -I../hardware/victims/firmware/hal/stm32f3 -I../hardware/victims/firmware/hal/stm32f3/CMSIS -I../hardware/victims/firmware/hal/stm32f3/CMSIS/core -I../hardware/victims/firmware/hal/stm32f3/CMSIS/device -I../hardware/victims/firmware/hal/stm32f4/Legacy -I../hardware/victims/firmware/crypto/ -std=gnu99  -MMD -MP -MF .dep/write_csv.o.d write_csv.c -o objdir-CWLITEARM/write_csv.o\n",
      ".\n",
      "Compiling C: simpleserial.c\n",
      "arm-none-eabi-gcc -c -mcpu=cortex-m4 -I. -mthumb -mfloat-abi=soft -fmessage-length=0 -ffunction-sections -gdwarf-2 -DSS_VER=SS_VER_1_1 -DSTM32F303xC -DSTM32F3 -DSTM32 -DDEBUG -DHAL_TYPE=HAL_stm32f3 -DPLATFORM=CWLITEARM -DF_CPU=7372800UL -DSS_VER_2_0=2 -DSS_VER_2_1=3 -DSS_VER_1_1=1 -DSS_VER_1_0=0 -Os -funsigned-char -funsigned-bitfields -fshort-enums -Wall -Wstrict-prototypes -Wa,-adhlns=objdir-CWLITEARM/simpleserial.lst -I../hardware/victims/firmware/simpleserial/ -I../hardware/victims/firmware/hal -I../hardware/victims/firmware/hal/stm32f3 -I../hardware/victims/firmware/hal/stm32f3/CMSIS -I../hardware/victims/firmware/hal/stm32f3/CMSIS/core -I../hardware/victims/firmware/hal/stm32f3/CMSIS/device -I../hardware/victims/firmware/hal/stm32f4/Legacy -I../hardware/victims/firmware/crypto/ -std=gnu99  -MMD -MP -MF .dep/simpleserial.o.d simpleserial.c -o objdir-CWLITEARM/simpleserial.o\n",
      ".\n",
      "Compiling C: ../hardware/victims/firmware/hal/stm32f3/stm32f3_hal.c\n",
      "arm-none-eabi-gcc -c -mcpu=cortex-m4 -I. -mthumb -mfloat-abi=soft -fmessage-length=0 -ffunction-sections -gdwarf-2 -DSS_VER=SS_VER_1_1 -DSTM32F303xC -DSTM32F3 -DSTM32 -DDEBUG -DHAL_TYPE=HAL_stm32f3 -DPLATFORM=CWLITEARM -DF_CPU=7372800UL -DSS_VER_2_0=2 -DSS_VER_2_1=3 -DSS_VER_1_1=1 -DSS_VER_1_0=0 -Os -funsigned-char -funsigned-bitfields -fshort-enums -Wall -Wstrict-prototypes -Wa,-adhlns=objdir-CWLITEARM/stm32f3_hal.lst -I../hardware/victims/firmware/simpleserial/ -I../hardware/victims/firmware/hal -I../hardware/victims/firmware/hal/stm32f3 -I../hardware/victims/firmware/hal/stm32f3/CMSIS -I../hardware/victims/firmware/hal/stm32f3/CMSIS/core -I../hardware/victims/firmware/hal/stm32f3/CMSIS/device -I../hardware/victims/firmware/hal/stm32f4/Legacy -I../hardware/victims/firmware/crypto/ -std=gnu99  -MMD -MP -MF .dep/stm32f3_hal.o.d ../hardware/victims/firmware/hal/stm32f3/stm32f3_hal.c -o objdir-CWLITEARM/stm32f3_hal.o\n",
      ".\n",
      "Compiling C: ../hardware/victims/firmware/hal/stm32f3/stm32f3_hal_lowlevel.c\n",
      "arm-none-eabi-gcc -c -mcpu=cortex-m4 -I. -mthumb -mfloat-abi=soft -fmessage-length=0 -ffunction-sections -gdwarf-2 -DSS_VER=SS_VER_1_1 -DSTM32F303xC -DSTM32F3 -DSTM32 -DDEBUG -DHAL_TYPE=HAL_stm32f3 -DPLATFORM=CWLITEARM -DF_CPU=7372800UL -DSS_VER_2_0=2 -DSS_VER_2_1=3 -DSS_VER_1_1=1 -DSS_VER_1_0=0 -Os -funsigned-char -funsigned-bitfields -fshort-enums -Wall -Wstrict-prototypes -Wa,-adhlns=objdir-CWLITEARM/stm32f3_hal_lowlevel.lst -I../hardware/victims/firmware/simpleserial/ -I../hardware/victims/firmware/hal -I../hardware/victims/firmware/hal/stm32f3 -I../hardware/victims/firmware/hal/stm32f3/CMSIS -I../hardware/victims/firmware/hal/stm32f3/CMSIS/core -I../hardware/victims/firmware/hal/stm32f3/CMSIS/device -I../hardware/victims/firmware/hal/stm32f4/Legacy -I../hardware/victims/firmware/crypto/ -std=gnu99  -MMD -MP -MF .dep/stm32f3_hal_lowlevel.o.d ../hardware/victims/firmware/hal/stm32f3/stm32f3_hal_lowlevel.c -o objdir-CWLITEARM/stm32f3_hal_lowlevel.o\n",
      ".\n",
      "Compiling C: ../hardware/victims/firmware/hal/stm32f3/stm32f3_sysmem.c\n",
      "arm-none-eabi-gcc -c -mcpu=cortex-m4 -I. -mthumb -mfloat-abi=soft -fmessage-length=0 -ffunction-sections -gdwarf-2 -DSS_VER=SS_VER_1_1 -DSTM32F303xC -DSTM32F3 -DSTM32 -DDEBUG -DHAL_TYPE=HAL_stm32f3 -DPLATFORM=CWLITEARM -DF_CPU=7372800UL -DSS_VER_2_0=2 -DSS_VER_2_1=3 -DSS_VER_1_1=1 -DSS_VER_1_0=0 -Os -funsigned-char -funsigned-bitfields -fshort-enums -Wall -Wstrict-prototypes -Wa,-adhlns=objdir-CWLITEARM/stm32f3_sysmem.lst -I../hardware/victims/firmware/simpleserial/ -I../hardware/victims/firmware/hal -I../hardware/victims/firmware/hal/stm32f3 -I../hardware/victims/firmware/hal/stm32f3/CMSIS -I../hardware/victims/firmware/hal/stm32f3/CMSIS/core -I../hardware/victims/firmware/hal/stm32f3/CMSIS/device -I../hardware/victims/firmware/hal/stm32f4/Legacy -I../hardware/victims/firmware/crypto/ -std=gnu99  -MMD -MP -MF .dep/stm32f3_sysmem.o.d ../hardware/victims/firmware/hal/stm32f3/stm32f3_sysmem.c -o objdir-CWLITEARM/stm32f3_sysmem.o\n",
      ".\n",
      "Assembling: ../hardware/victims/firmware/hal/stm32f3/stm32f3_startup.S\n",
      "arm-none-eabi-gcc -c -mcpu=cortex-m4 -I. -x assembler-with-cpp -mthumb -mfloat-abi=soft -fmessage-length=0 -ffunction-sections -DF_CPU=7372800 -Wa,-gstabs,-adhlns=objdir-CWLITEARM/stm32f3_startup.lst -I../hardware/victims/firmware/simpleserial/ -I../hardware/victims/firmware/hal -I../hardware/victims/firmware/hal/stm32f3 -I../hardware/victims/firmware/hal/stm32f3/CMSIS -I../hardware/victims/firmware/hal/stm32f3/CMSIS/core -I../hardware/victims/firmware/hal/stm32f3/CMSIS/device -I../hardware/victims/firmware/hal/stm32f4/Legacy -I../hardware/victims/firmware/crypto/ ../hardware/victims/firmware/hal/stm32f3/stm32f3_startup.S -o objdir-CWLITEARM/stm32f3_startup.o\n",
      ".\n",
      "Linking: MLP-CWLITEARM.elf\n",
      "arm-none-eabi-gcc -mcpu=cortex-m4 -I. -mthumb -mfloat-abi=soft -fmessage-length=0 -ffunction-sections -gdwarf-2 -DSS_VER=SS_VER_1_1 -DSTM32F303xC -DSTM32F3 -DSTM32 -DDEBUG -DHAL_TYPE=HAL_stm32f3 -DPLATFORM=CWLITEARM -DF_CPU=7372800UL -DSS_VER_2_0=2 -DSS_VER_2_1=3 -DSS_VER_1_1=1 -DSS_VER_1_0=0 -Os -funsigned-char -funsigned-bitfields -fshort-enums -Wall -Wstrict-prototypes -Wa,-adhlns=objdir-CWLITEARM/back_propagation.o -I../hardware/victims/firmware/simpleserial/ -I../hardware/victims/firmware/hal -I../hardware/victims/firmware/hal/stm32f3 -I../hardware/victims/firmware/hal/stm32f3/CMSIS -I../hardware/victims/firmware/hal/stm32f3/CMSIS/core -I../hardware/victims/firmware/hal/stm32f3/CMSIS/device -I../hardware/victims/firmware/hal/stm32f4/Legacy -I../hardware/victims/firmware/crypto/ -std=gnu99  -MMD -MP -MF .dep/MLP-CWLITEARM.elf.d objdir-CWLITEARM/back_propagation.o objdir-CWLITEARM/forward_propagation.o objdir-CWLITEARM/main.o objdir-CWLITEARM/mlp_classifier.o objdir-CWLITEARM/mlp_trainer.o objdir-CWLITEARM/read_csv.o objdir-CWLITEARM/write_csv.o objdir-CWLITEARM/simpleserial.o objdir-CWLITEARM/stm32f3_hal.o objdir-CWLITEARM/stm32f3_hal_lowlevel.o objdir-CWLITEARM/stm32f3_sysmem.o objdir-CWLITEARM/stm32f3_startup.o --output MLP-CWLITEARM.elf --specs=nano.specs --specs=nosys.specs -T ../hardware/victims/firmware/hal/stm32f3/LinkerScript.ld -Wl,--gc-sections -lm -Wl,-Map=MLP-CWLITEARM.map,--cref   -lm  \n"
     ]
    },
    {
     "name": "stdout",
     "output_type": "stream",
     "text": [
      ".\n",
      "Creating load file for Flash: MLP-CWLITEARM.hex\n",
      "arm-none-eabi-objcopy -O ihex -R .eeprom -R .fuse -R .lock -R .signature MLP-CWLITEARM.elf MLP-CWLITEARM.hex\n",
      ".\n",
      "Creating load file for Flash: MLP-CWLITEARM.bin\n",
      "arm-none-eabi-objcopy -O binary -R .eeprom -R .fuse -R .lock -R .signature MLP-CWLITEARM.elf MLP-CWLITEARM.bin\n",
      ".\n",
      "Creating load file for EEPROM: MLP-CWLITEARM.eep\n",
      "arm-none-eabi-objcopy -j .eeprom --set-section-flags=.eeprom=\"alloc,load\" \\\n",
      "--change-section-lma .eeprom=0 --no-change-warnings -O ihex MLP-CWLITEARM.elf MLP-CWLITEARM.eep || exit 0\n",
      ".\n",
      "Creating Extended Listing: MLP-CWLITEARM.lss\n",
      "arm-none-eabi-objdump -h -S -z MLP-CWLITEARM.elf > MLP-CWLITEARM.lss\n",
      ".\n",
      "Creating Symbol Table: MLP-CWLITEARM.sym\n",
      "arm-none-eabi-nm -n MLP-CWLITEARM.elf > MLP-CWLITEARM.sym\n",
      "Size after:\n",
      "   text\t   data\t    bss\t    dec\t    hex\tfilename\n",
      "  23416\t    112\t   1464\t  24992\t   61a0\tMLP-CWLITEARM.elf\n",
      "+--------------------------------------------------------\n",
      "+ Default target does full rebuild each time.\n",
      "+ Specify buildtarget == allquick == to avoid full rebuild\n",
      "+--------------------------------------------------------\n",
      "+--------------------------------------------------------\n",
      "+ Built for platform CW-Lite Arm \\(STM32F3\\) with:\n",
      "+ CRYPTO_TARGET = NONE\n",
      "+ CRYPTO_OPTIONS = AES128C\n",
      "+--------------------------------------------------------\n",
      "make[1]: Leaving directory 'C:/Users/joris/ChipWhisperer5_64/cw/home/portable/chipwhisperer/multilayer-perceptron-in-c'\n"
     ]
    }
   ],
   "source": [
    "%%bash\n",
    "make PLATFORM=CWLITEARM CRYPTO_TARGET=NONE"
   ]
  },
  {
   "cell_type": "code",
   "execution_count": 44,
   "id": "ba85a3f7",
   "metadata": {},
   "outputs": [
    {
     "name": "stderr",
     "output_type": "stream",
     "text": [
      "(ChipWhisperer NAEUSB WARNING|File naeusb.py:713) Your firmware (0.62) is outdated - latest is 0.64 See https://chipwhisperer.readthedocs.io/en/latest/firmware.html for more information\n"
     ]
    }
   ],
   "source": [
    "import chipwhisperer as cw\n",
    "scope = cw.scope()\n",
    "target = cw.target(scope)"
   ]
  },
  {
   "cell_type": "code",
   "execution_count": 45,
   "id": "4137c133",
   "metadata": {},
   "outputs": [],
   "source": [
    "scope.default_setup()"
   ]
  },
  {
   "cell_type": "code",
   "execution_count": 46,
   "id": "411917f9",
   "metadata": {},
   "outputs": [
    {
     "name": "stdout",
     "output_type": "stream",
     "text": [
      "Detected unknown STM32F ID: 0x446\n",
      "Extended erase (0x44), this can take ten seconds or more\n",
      "Attempting to program 23539 bytes at 0x8000000\n",
      "STM32F Programming flash...\n",
      "STM32F Reading flash...\n",
      "Verified flash OK, 23539 bytes\n"
     ]
    }
   ],
   "source": [
    "cw.program_target(scope, cw.programmers.STM32FProgrammer, \"MLP-CWLITEARM.hex\")"
   ]
  },
  {
   "cell_type": "code",
   "execution_count": 47,
   "id": "2bef7550",
   "metadata": {},
   "outputs": [],
   "source": [
    "scope.dis()\n",
    "target.dis()\n",
    "print(\"done\")"
   ]
  },
  {
   "cell_type": "code",
   "execution_count": null,
   "id": "617250f1",
   "metadata": {},
   "outputs": [],
   "source": []
  }
 ],
 "metadata": {
  "kernelspec": {
   "display_name": "Python 3 (ipykernel)",
   "language": "python",
   "name": "python3"
  },
  "language_info": {
   "codemirror_mode": {
    "name": "ipython",
    "version": 3
   },
   "file_extension": ".py",
   "mimetype": "text/x-python",
   "name": "python",
   "nbconvert_exporter": "python",
   "pygments_lexer": "ipython3",
   "version": "3.10.8"
  }
 },
 "nbformat": 4,
 "nbformat_minor": 5
}
