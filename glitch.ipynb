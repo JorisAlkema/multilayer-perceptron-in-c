{
 "cells": [
  {
   "cell_type": "code",
   "execution_count": 95,
   "id": "ab2f0b64",
   "metadata": {},
   "outputs": [],
   "source": [
    "import chipwhisperer as cw"
   ]
  },
  {
   "cell_type": "code",
   "execution_count": 96,
   "id": "df06f424",
   "metadata": {},
   "outputs": [],
   "source": [
    "SCOPETYPE = 'OPENADC'\n",
    "PLATFORM = 'CWLITEARM'\n",
    "SS_VER = 'SS_VER_2_1'"
   ]
  },
  {
   "cell_type": "code",
   "execution_count": 99,
   "id": "25410de8",
   "metadata": {},
   "outputs": [
    {
     "name": "stderr",
     "output_type": "stream",
     "text": [
      "(ChipWhisperer NAEUSB WARNING|File naeusb.py:713) Your firmware (0.62) is outdated - latest is 0.64 See https://chipwhisperer.readthedocs.io/en/latest/firmware.html for more information\n"
     ]
    }
   ],
   "source": [
    "scope = cw.scope()\n",
    "target = cw.target(scope, cw.targets.SimpleSerial2, flush_on_err=False)"
   ]
  },
  {
   "cell_type": "code",
   "execution_count": null,
   "id": "daca3a9a",
   "metadata": {},
   "outputs": [],
   "source": [
    "def reboot_flush():            \n",
    "        scope.io.nrst = False\n",
    "        time.sleep(0.05)\n",
    "        scope.io.nrst = \"high_z\"\n",
    "        time.sleep(0.05)\n",
    "        #Flush garbage too\n",
    "        target.flush()"
   ]
  },
  {
   "cell_type": "code",
   "execution_count": null,
   "id": "bb64088e",
   "metadata": {},
   "outputs": [],
   "source": [
    "#target.get_simpleserial_commands(250, None, True)"
   ]
  },
  {
   "cell_type": "code",
   "execution_count": 102,
   "id": "ef85f95b",
   "metadata": {},
   "outputs": [
    {
     "name": "stdout",
     "output_type": "stream",
     "text": [
      "{'valid': False, 'payload': None, 'full_response': '', 'rv': None}\n"
     ]
    }
   ],
   "source": [
    "#Do glitch loop\n",
    "reboot_flush()\n",
    "target.simpleserial_write('a', bytearray([]))\n",
    "#target.send_cmd('a')\n",
    "val = target.simpleserial_read_witherrors('r', 1, glitch_timeout=250)#For loop check\n",
    "print(val)"
   ]
  },
  {
   "cell_type": "code",
   "execution_count": null,
   "id": "25783405",
   "metadata": {},
   "outputs": [],
   "source": [
    "target.simpleserial_read_witherrors('r', 1, glitch_timeout=250)#For loop check"
   ]
  },
  {
   "cell_type": "code",
   "execution_count": null,
   "id": "732eeea8",
   "metadata": {},
   "outputs": [],
   "source": [
    "target.simpleserial_read()"
   ]
  },
  {
   "cell_type": "code",
   "execution_count": null,
   "id": "861ed4ae",
   "metadata": {},
   "outputs": [],
   "source": [
    "cw.read()"
   ]
  },
  {
   "cell_type": "code",
   "execution_count": 98,
   "id": "3570e509",
   "metadata": {},
   "outputs": [],
   "source": [
    "scope.dis()\n",
    "target.dis()"
   ]
  },
  {
   "cell_type": "code",
   "execution_count": null,
   "id": "0069bb90",
   "metadata": {},
   "outputs": [],
   "source": []
  }
 ],
 "metadata": {
  "kernelspec": {
   "display_name": "Python 3 (ipykernel)",
   "language": "python",
   "name": "python3"
  },
  "language_info": {
   "codemirror_mode": {
    "name": "ipython",
    "version": 3
   },
   "file_extension": ".py",
   "mimetype": "text/x-python",
   "name": "python",
   "nbconvert_exporter": "python",
   "pygments_lexer": "ipython3",
   "version": "3.10.8"
  }
 },
 "nbformat": 4,
 "nbformat_minor": 5
}
